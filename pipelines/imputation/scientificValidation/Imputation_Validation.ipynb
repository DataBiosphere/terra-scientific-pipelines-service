{
 "cells": [
  {
   "cell_type": "code",
   "execution_count": null,
   "id": "5cba98d9-a2d9-40c0-8a6f-4ea34092c0b6",
   "metadata": {},
   "outputs": [],
   "source": [
    "import json\n",
    "import os\n",
    "import pandas as pd\n",
    "from firecloud import api as fapi\n",
    "from plotnine import *\n",
    "from pprint import pprint"
   ]
  },
  {
   "cell_type": "code",
   "execution_count": null,
   "id": "c71d0cf8",
   "metadata": {},
   "outputs": [],
   "source": [
    "# define datasets with format {\"label\": \"submission_id\"} \n",
    "# where submission_id corresponds to the run of GatkConcordanceValidation in this workspace\n",
    "datasets = {\n",
    "    'chr1 split': '017c9e93-29d5-41f5-9490-c18fe0c3b1f7',\n",
    "    'chr1 no split': '300d7b27-955a-486c-bf4e-4c79677fb5cf'}\n",
    "\n",
    "sample_to_ancestry_tsv = 'gs://fc-secure-070f3cd7-c0bc-4125-90e4-7962a696cc72/input_files/evaluation/hgdp_951_sample_to_ancestry.tsv'"
   ]
  },
  {
   "cell_type": "code",
   "execution_count": null,
   "id": "f5543eee",
   "metadata": {},
   "outputs": [],
   "source": [
    "WORKSPACE = os.getenv('WORKSPACE_NAME')\n",
    "PROJECT = os.getenv('WORKSPACE_NAMESPACE')\n",
    "WORKFLOW_NAME = 'GatkConcordanceValidation'\n",
    "\n",
    "def get_outputs_from_submission(submission_id):\n",
    "    \"\"\"Extract the tsv output from a submission, assuming only one workflow in the submission\"\"\"\n",
    "    submission = fapi.get_submission(PROJECT, WORKSPACE, submission_id).json()\n",
    "    workflow_id = submission['workflows'][0]['workflowId']\n",
    "    \n",
    "    outputs = fapi.get_workflow_outputs(PROJECT, WORKSPACE, submission_id, workflow_id).json()\n",
    "    return outputs['tasks'][WORKFLOW_NAME]['outputs']"
   ]
  },
  {
   "cell_type": "code",
   "execution_count": null,
   "id": "e4321d0b",
   "metadata": {},
   "outputs": [],
   "source": [
    "data = pd.DataFrame()\n",
    "for label, submission_id in datasets.items():\n",
    "    # get outputs\n",
    "    outputs = get_outputs_from_submission(submission_id)\n",
    "    # extract correlation tsv\n",
    "    correlation_tsv = outputs['GatkConcordanceValidation.combined_correlations']\n",
    "    df = pd.read_csv(correlation_tsv, sep=\"\\t\", comment=\"#\", dtype={'INDEL_CORRELATION':float,\n",
    "                                                     'SNP_CORRELATION':float}, na_values=\"?\")\n",
    "    df['panel']=label\n",
    "    data = pd.concat([data, df], ignore_index=True)"
   ]
  },
  {
   "cell_type": "code",
   "execution_count": null,
   "id": "9504e6a6",
   "metadata": {},
   "outputs": [],
   "source": [
    "# display first few lines of specified section\n",
    "chrom_to_preview = 'chr1'\n",
    "data[data['CHROMOSOME']==chrom_to_preview].head()"
   ]
  },
  {
   "cell_type": "code",
   "execution_count": null,
   "id": "0e1d15bc",
   "metadata": {},
   "outputs": [],
   "source": [
    "# OPTIONAL - remove certain samples\n",
    "remove_samples = False\n",
    "\n",
    "if remove_samples:\n",
    "    samples_to_remove = [\"HGDP00001\"]\n",
    "    \n",
    "    print(f\"found {samples_to_remove[0]} in data: {samples_to_remove[0] in data['SAMPLE'].tolist()}\")\n",
    "    \n",
    "    # remove\n",
    "    data = data[~data.SAMPLE.isin(samples_to_remove)]\n",
    "    \n",
    "    # confirm\n",
    "    print(f\"found {samples_to_remove[0]} in data: {samples_to_remove[0] in data['SAMPLE'].tolist()}\")\n",
    "else:\n",
    "    print(\"not removing any samples\")"
   ]
  },
  {
   "cell_type": "code",
   "execution_count": null,
   "id": "b465aa4b-a9fc-4c8e-99fe-45e1aca01a16",
   "metadata": {},
   "outputs": [],
   "source": [
    "data['r2_snp']=data['SNP_CORRELATION']**2\n",
    "data['r2_indel']=data['INDEL_CORRELATION']**2"
   ]
  },
  {
   "cell_type": "code",
   "execution_count": null,
   "id": "6360fc70-deb0-4b50-afa3-5a201f72d19d",
   "metadata": {},
   "outputs": [],
   "source": [
    "ancestry = pd.read_csv(sample_to_ancestry_tsv,sep=\"\\t\", header=None, names=[\"sample\", \"ancestry\"])\n",
    "data = data.merge(ancestry, left_on=\"SAMPLE\", right_on=\"sample\")"
   ]
  },
  {
   "cell_type": "code",
   "execution_count": null,
   "id": "f9709365",
   "metadata": {},
   "outputs": [],
   "source": [
    "data.head()"
   ]
  },
  {
   "cell_type": "code",
   "execution_count": null,
   "id": "808597d4-1200-44a5-a09c-e5b28ef74a9e",
   "metadata": {},
   "outputs": [],
   "source": [
    "summary_by_contig = (data.query('CHROMOSOME!=\"WholeGenome\"')\n",
    "                         .groupby(['BIN_CENTER',\n",
    "                                   'panel',\n",
    "                                   'CHROMOSOME']).\n",
    "                          agg(r2_snp = pd.NamedAgg('r2_snp','mean'),\n",
    "                              r2_indel = pd.NamedAgg('r2_indel','mean')\n",
    "                             )\n",
    "                         )\n",
    "summary_by_contig.head(3)"
   ]
  },
  {
   "cell_type": "code",
   "execution_count": null,
   "id": "090343c2",
   "metadata": {},
   "outputs": [],
   "source": [
    "summary_by_contig_and_ancestry = (data.query('CHROMOSOME!=\"WholeGenome\"').groupby(['BIN_CENTER','panel',\n",
    "                                                       'CHROMOSOME','ancestry']).\n",
    "                                  agg(r2_snp = pd.NamedAgg('r2_snp','mean'),\n",
    "                                      r2_indel = pd.NamedAgg('r2_indel','mean')\n",
    "                                     )\n",
    "                                 )\n",
    "summary_by_contig_and_ancestry.head(3)"
   ]
  },
  {
   "cell_type": "code",
   "execution_count": null,
   "id": "6e4827ec-d0ac-4134-840d-7a451c234717",
   "metadata": {},
   "outputs": [],
   "source": [
    "summary_by_ancestry = (data.query('CHROMOSOME==\"WholeGenome\"').groupby(['BIN_CENTER','panel','ancestry']).\n",
    "                                  agg(r2_snp = pd.NamedAgg('r2_snp','mean'),\n",
    "                                      r2_indel = pd.NamedAgg('r2_indel','mean')\n",
    "                                     )\n",
    "                                 )\n",
    "\n",
    "summary_by_ancestry.head(3)"
   ]
  },
  {
   "cell_type": "code",
   "execution_count": null,
   "id": "82965d73-e18a-4d9e-83ad-ab81ab18a763",
   "metadata": {},
   "outputs": [],
   "source": [
    "# plot SNP mean r-squared for all panels, whole genome, split by ancestry\n",
    "(\n",
    "    ggplot(summary_by_ancestry.reset_index(), aes(x='BIN_CENTER', y='r2_snp', color='panel')) +\n",
    "    geom_point() + geom_line() + facet_wrap(\"ancestry\") + theme_bw() + scale_x_log10() + ylim(0,1) +\n",
    "    xlab(\"Allele Frequency\") + ylab(\"Mean r$^2$ for SNPs\")\n",
    ")"
   ]
  },
  {
   "cell_type": "code",
   "execution_count": null,
   "id": "47bf3550-d964-413c-a929-d08235269772",
   "metadata": {},
   "outputs": [],
   "source": [
    "# plot INDEL mean r-squared for all panels, whole genome, split by ancestry\n",
    "(\n",
    "    ggplot(summary_by_ancestry.reset_index(), aes(x='BIN_CENTER', y='r2_indel', color='panel')) +\n",
    "    geom_point() + geom_line() + facet_wrap(\"ancestry\") + theme_bw() + scale_x_log10() + ylim(0,1) +\n",
    "    xlab(\"Allele Frequency\") + ylab(\"Mean r$^2$ for INDELs\")\n",
    ")"
   ]
  },
  {
   "cell_type": "code",
   "execution_count": null,
   "id": "ed025cc9",
   "metadata": {},
   "outputs": [],
   "source": [
    "# plot SNP mean r-squared for all panels, split by chromosome\n",
    "(\n",
    "    ggplot(summary_by_contig.reset_index(), aes(x='BIN_CENTER', y='r2_snp', color='panel')) +\n",
    "    geom_point() + geom_line() + facet_wrap(\"CHROMOSOME\") + theme_bw() + scale_x_log10() + ylim(0,1) +\n",
    "    xlab(\"Allele Frequency\") + ylab(\"Mean r$^2$ for SNPs\")\n",
    ")"
   ]
  },
  {
   "cell_type": "code",
   "execution_count": null,
   "id": "2da2d7ea",
   "metadata": {},
   "outputs": [],
   "source": [
    "# plot INDEL mean r-squared for all panels, split by chromosome\n",
    "(\n",
    "    ggplot(summary_by_contig.reset_index(), aes(x='BIN_CENTER', y='r2_indel', color='panel')) +\n",
    "    geom_point() + geom_line() + facet_wrap(\"CHROMOSOME\") + theme_bw() + scale_x_log10() + ylim(0,1) +\n",
    "    xlab(\"Allele Frequency\") + ylab(\"Mean r$^2$ for INDELs\")\n",
    ")"
   ]
  },
  {
   "cell_type": "code",
   "execution_count": null,
   "id": "87ef8d0c",
   "metadata": {},
   "outputs": [],
   "source": [
    "# show all ancestries in the data\n",
    "data['ancestry'].unique()"
   ]
  },
  {
   "cell_type": "code",
   "execution_count": null,
   "id": "276497dd",
   "metadata": {},
   "outputs": [],
   "source": [
    "# sas\n",
    "ancestry_key = 'sas'\n",
    "(\n",
    "    ggplot(summary_by_contig_and_ancestry.reset_index().query(f'ancestry==\"{ancestry_key}\"'), aes(x='BIN_CENTER', y='r2_snp', color='panel')) +\n",
    "    geom_point() + geom_line() + facet_wrap(\"CHROMOSOME\") + theme_bw() + scale_x_log10() + ylim(0,1) +\n",
    "    xlab(\"Allele Frequency\") + ylab(f\"Mean r$^2$ for SNPs for {ancestry_key} samples\")\n",
    ")"
   ]
  },
  {
   "cell_type": "code",
   "execution_count": null,
   "id": "97f80fa0-4659-4111-a031-3656619aeb48",
   "metadata": {},
   "outputs": [],
   "source": [
    "# afr\n",
    "ancestry_key = 'afr'\n",
    "(\n",
    "    ggplot(summary_by_contig_and_ancestry.reset_index().query(f'ancestry==\"{ancestry_key}\"'), aes(x='BIN_CENTER', y='r2_snp', color='panel')) +\n",
    "    geom_point() + geom_line() + facet_wrap(\"CHROMOSOME\") + theme_bw() + scale_x_log10() + ylim(0,1) +\n",
    "    xlab(\"Allele Frequency\") + ylab(f\"Mean r$^2$ for SNPs for {ancestry_key} samples\")\n",
    ")"
   ]
  },
  {
   "cell_type": "code",
   "execution_count": null,
   "id": "15d5a54d-fa72-4150-907e-4feb4072ea0c",
   "metadata": {},
   "outputs": [],
   "source": [
    "# oth\n",
    "ancestry_key = 'oth'\n",
    "(\n",
    "    ggplot(summary_by_contig_and_ancestry.reset_index().query(f'ancestry==\"{ancestry_key}\"'), aes(x='BIN_CENTER', y='r2_snp', color='panel')) +\n",
    "    geom_point() + geom_line() + facet_wrap(\"CHROMOSOME\") + theme_bw() + scale_x_log10() + ylim(0,1) +\n",
    "    xlab(\"Allele Frequency\") + ylab(f\"Mean r$^2$ for SNPs for {ancestry_key} samples\")\n",
    ")"
   ]
  },
  {
   "cell_type": "code",
   "execution_count": null,
   "id": "b355240a-43b0-46ed-9f47-e60bcc863d76",
   "metadata": {},
   "outputs": [],
   "source": [
    "# nfe\n",
    "ancestry_key = 'nfe'\n",
    "(\n",
    "    ggplot(summary_by_contig_and_ancestry.reset_index().query(f'ancestry==\"{ancestry_key}\"'), aes(x='BIN_CENTER', y='r2_snp', color='panel')) +\n",
    "    geom_point() + geom_line() + facet_wrap(\"CHROMOSOME\") + theme_bw() + scale_x_log10() + ylim(0,1) +\n",
    "    xlab(\"Allele Frequency\") + ylab(f\"Mean r$^2$ for SNPs for {ancestry_key} samples\")\n",
    ")"
   ]
  },
  {
   "cell_type": "code",
   "execution_count": null,
   "id": "2c33c0cf-e5e2-4109-88a6-72b3d4d25d79",
   "metadata": {},
   "outputs": [],
   "source": [
    "# mid\n",
    "ancestry_key = 'mid'\n",
    "(\n",
    "    ggplot(summary_by_contig_and_ancestry.reset_index().query(f'ancestry==\"{ancestry_key}\"'), aes(x='BIN_CENTER', y='r2_snp', color='panel')) +\n",
    "    geom_point() + geom_line() + facet_wrap(\"CHROMOSOME\") + theme_bw() + scale_x_log10() + ylim(0,1) +\n",
    "    xlab(\"Allele Frequency\") + ylab(f\"Mean r$^2$ for SNPs for {ancestry_key} samples\")\n",
    ")"
   ]
  },
  {
   "cell_type": "code",
   "execution_count": null,
   "id": "da0c02cb-a4f4-4763-b694-c4a42384f37d",
   "metadata": {},
   "outputs": [],
   "source": [
    "# amr\n",
    "ancestry_key = 'amr'\n",
    "(\n",
    "    ggplot(summary_by_contig_and_ancestry.reset_index().query(f'ancestry==\"{ancestry_key}\"'), aes(x='BIN_CENTER', y='r2_snp', color='panel')) +\n",
    "    geom_point() + geom_line() + facet_wrap(\"CHROMOSOME\") + theme_bw() + scale_x_log10() + ylim(0,1) +\n",
    "    xlab(\"Allele Frequency\") + ylab(f\"Mean r$^2$ for SNPs for {ancestry_key} samples\")\n",
    ")"
   ]
  },
  {
   "cell_type": "code",
   "execution_count": null,
   "id": "f3fe28c3-b7ae-472c-81fe-0d0d40502fa1",
   "metadata": {},
   "outputs": [],
   "source": [
    "# eas\n",
    "ancestry_key = 'eas'\n",
    "(\n",
    "    ggplot(summary_by_contig_and_ancestry.reset_index().query(f'ancestry==\"{ancestry_key}\"'), aes(x='BIN_CENTER', y='r2_snp', color='panel')) +\n",
    "    geom_point() + geom_line() + facet_wrap(\"CHROMOSOME\") + theme_bw() + scale_x_log10() + ylim(0,1) +\n",
    "    xlab(\"Allele Frequency\") + ylab(f\"Mean r$^2$ for SNPs for {ancestry_key} samples\")\n",
    ")"
   ]
  },
  {
   "cell_type": "code",
   "execution_count": null,
   "id": "d312e68a-4549-44e1-b99b-b1bbf8c55a95",
   "metadata": {},
   "outputs": [],
   "source": [
    "# select a panel, plot SNPs\n",
    "panel_key = 'chr1 split'\n",
    "(\n",
    "    ggplot(both_r2_summary_by_contig.reset_index().query(f'panel==\"{panel_key}\"'), aes(x='BIN_CENTER', y='r2_snp', color='factor(contig)')) +\n",
    "    geom_point() + geom_line() + facet_wrap(\"ancestry\") + theme_bw() + scale_x_log10() + ylim(0,1) +\n",
    "    xlab(\"Allele Frequency\") + ylab(f\"Mean r$^2$ for SNPs ({panel_key})\")\n",
    ")"
   ]
  },
  {
   "cell_type": "code",
   "execution_count": null,
   "id": "5896930d-b56a-4eb1-b179-8121e8d7681d",
   "metadata": {},
   "outputs": [],
   "source": [
    "# plot INDELs for selected panel\n",
    "(\n",
    "    ggplot(both_r2_summary_by_contig.reset_index().query(f'panel==\"{panel_key}\"'), aes(x='BIN_CENTER', y='r2_indel', color='factor(contig)')) +\n",
    "    geom_point() + geom_line() + facet_wrap(\"ancestry\") + theme_bw() + scale_x_log10() + ylim(0,1) +\n",
    "    xlab(\"Allele Frequency\") + ylab(f\"Mean r$^2$ for INDELs ({panel_key})\")\n",
    ")"
   ]
  },
  {
   "cell_type": "code",
   "execution_count": null,
   "id": "5a9346f2-714d-4382-b125-a287991095d6",
   "metadata": {},
   "outputs": [],
   "source": [
    "# example query\n",
    "summary_by_contig_and_ancestry.query('ancestry==\"afr\" and CHROMOSOME==\"chr3\"')"
   ]
  },
  {
   "cell_type": "code",
   "execution_count": null,
   "id": "ace7cdcb-5cf8-4132-865e-11abc50c4e8c",
   "metadata": {},
   "outputs": [],
   "source": []
  }
 ],
 "metadata": {
  "kernelspec": {
   "display_name": "Python 3",
   "language": "python",
   "name": "python3"
  },
  "language_info": {
   "codemirror_mode": {
    "name": "ipython",
    "version": 3
   },
   "file_extension": ".py",
   "mimetype": "text/x-python",
   "name": "python",
   "nbconvert_exporter": "python",
   "pygments_lexer": "ipython3",
   "version": "3.10.16"
  },
  "toc": {
   "base_numbering": 1,
   "nav_menu": {},
   "number_sections": true,
   "sideBar": true,
   "skip_h1_title": false,
   "title_cell": "Table of Contents",
   "title_sidebar": "Contents",
   "toc_cell": false,
   "toc_position": {},
   "toc_section_display": true,
   "toc_window_display": false
  }
 },
 "nbformat": 4,
 "nbformat_minor": 5
}
