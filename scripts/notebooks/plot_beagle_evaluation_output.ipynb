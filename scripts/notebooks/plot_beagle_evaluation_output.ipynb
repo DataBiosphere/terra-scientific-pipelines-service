{
 "cells": [
  {
   "cell_type": "code",
   "execution_count": 7,
   "metadata": {
    "tags": []
   },
   "outputs": [],
   "source": [
    "import requests\n",
    "import google.auth\n",
    "import json\n",
    "import time\n",
    "from datetime import datetime, timedelta\n",
    "from google.auth.transport.requests import Request as GoogleAuthRequest\n",
    "from pprint import pprint\n",
    "import pandas as pd\n",
    "import matplotlib.pyplot as plt\n",
    "import os.path"
   ]
  },
  {
   "cell_type": "code",
   "execution_count": 8,
   "metadata": {
    "tags": []
   },
   "outputs": [],
   "source": [
    "ENV='dev'\n",
    "workflow_name = \"BeagleValidation\"\n",
    "imputated_stats_wdl_variable_name = \"imputed_r2_output\"\n",
    "\n",
    "workspace_project = \"general-dev-billing-account\"\n",
    "workspace_name = \"tsps_gcp_scratch_space_mma\"\n",
    "\n",
    "submission_id_1 = 'e46b19f3-7376-48d9-9c7d-cff42bcc95fc'\n",
    "workflow_id_1 = '065345ed-9003-443a-8218-144ff1631fab'\n",
    "\n",
    "submission_id_2 = 'e46b19f3-7376-48d9-9c7d-cff42bcc95fc'\n",
    "workflow_id_2 = '065345ed-9003-443a-8218-144ff1631fab'"
   ]
  },
  {
   "cell_type": "code",
   "execution_count": 9,
   "metadata": {
    "tags": []
   },
   "outputs": [],
   "source": [
    "def get_access_token():\n",
    "    \"\"\"Get access token.\"\"\"\n",
    "    credentials, _ = google.auth.default()\n",
    "    \n",
    "    credentials.refresh(GoogleAuthRequest())\n",
    "    \n",
    "    return credentials.token\n",
    "\n",
    "\n",
    "def get_workflows_url(workspace_project, workspace_name):\n",
    "    return f\"https://rawls.dsde-{ENV}.broadinstitute.org/api/workspaces/{workspace_project}/{workspace_name}\"\n",
    "\n",
    "\n",
    "def get_cromwell_workflow_outputs(workflows_url, submission_id, workflow_id, token, attempt=1):\n",
    "    uri = f\"{workflows_url}/submissions/{submission_id}/workflows/{workflow_id}/outputs\"\n",
    "    \n",
    "    headers = {\"Authorization\": \"Bearer \" + token,\n",
    "               \"accept\": \"application/json\"}\n",
    "    \n",
    "    response = requests.get(uri, headers=headers)\n",
    "    status_code = response.status_code\n",
    "    \n",
    "    if status_code != 200:\n",
    "        if status_code == 404 and attempt <= 3:\n",
    "            attempt += 1\n",
    "            # sometimes we get a transient 404, we should retry twice\n",
    "            print(f\"retrying call after {attempt} sec, attempt {attempt}\")\n",
    "            time.sleep(attempt)\n",
    "            return get_cromwell_workflow_google(uri, token, attempt=attempt)\n",
    "        print(\"error fetching cromwell workflow metadata\")\n",
    "        print(response.text)\n",
    "\n",
    "    return response.json()\n",
    "\n",
    "def get_imputed_output(workflows_url, submission_id, workflow_id, token):\n",
    "    response = get_cromwell_workflow_outputs(workflows_url, submission_id, workflow_id, token)\n",
    "    return response['tasks'][f'{workflow_name}']['outputs'][f'{workflow_name}.{imputated_stats_wdl_variable_name}']"
   ]
  },
  {
   "cell_type": "code",
   "execution_count": 10,
   "metadata": {
    "tags": []
   },
   "outputs": [
    {
     "name": "stdout",
     "output_type": "stream",
     "text": [
      "running on dev\n"
     ]
    }
   ],
   "source": [
    "print(f\"running on {ENV}\")\n",
    "token = get_access_token()\n",
    "workflows_url = get_workflows_url(workspace_project, workspace_name)"
   ]
  },
  {
   "cell_type": "code",
   "execution_count": 11,
   "metadata": {
    "tags": []
   },
   "outputs": [],
   "source": [
    "imputed_stats_gcs_path_1 = get_imputed_output(workflows_url, submission_id_1, workflow_id_1, get_access_token())\n",
    "imputed_stats_gcs_path_2 = get_imputed_output(workflows_url, submission_id_2, workflow_id_2, get_access_token())"
   ]
  },
  {
   "cell_type": "code",
   "execution_count": 12,
   "metadata": {
    "tags": []
   },
   "outputs": [
    {
     "name": "stdout",
     "output_type": "stream",
     "text": [
      "Copying gs://fc-431ee27b-67d9-4a5c-b087-226db01368f8/submissions/e46b19f3-7376-48d9-9c7d-cff42bcc95fc/BeagleValidation/065345ed-9003-443a-8218-144ff1631fab/call-RunBeagleImputedR2/test_run_s10.imputed_stats.tsv to file://output_1.tsv\n",
      "  Completed files 1/1 | 823.0B/823.0B                                          \n",
      "Copying gs://fc-431ee27b-67d9-4a5c-b087-226db01368f8/submissions/e46b19f3-7376-48d9-9c7d-cff42bcc95fc/BeagleValidation/065345ed-9003-443a-8218-144ff1631fab/call-RunBeagleImputedR2/test_run_s10.imputed_stats.tsv to file://output_2.tsv\n",
      "  Completed files 1/1 | 823.0B/823.0B                                          \n"
     ]
    }
   ],
   "source": [
    "!gcloud storage cp {imputed_stats_gcs_path_1} output_1.tsv\n",
    "!gcloud storage cp {imputed_stats_gcs_path_2} output_2.tsv\n"
   ]
  },
  {
   "cell_type": "code",
   "execution_count": 16,
   "metadata": {
    "tags": []
   },
   "outputs": [
    {
     "data": {
      "image/png": "[encoded data removed]",
      "text/plain": [
       "<Figure size 1000x600 with 1 Axes>"
      ]
     },
     "metadata": {},
     "output_type": "display_data"
    }
   ],
   "source": [
    "# Read the TSV file\n",
    "df_1 = pd.read_csv(\"output_1.tsv\", sep=\"\\t\")\n",
    "df_2 = pd.read_csv(\"output_2.tsv\", sep=\"\\t\")\n",
    "\n",
    "## Change to true if you want to filter 0's from the data\n",
    "filter_zeros = False\n",
    "df_filtered_1 = df_1[df_1['R2'] > 0] if filter_zeros else df_1\n",
    "df_filtered_2 = df_2[df_2['R2'] > 0] if filter_zeros else df_2\n",
    "\n",
    "# Create the scatter plot\n",
    "plt.figure(figsize=(10, 6))\n",
    "plt.scatter(df_filtered_1['MIN_AC'], df_filtered_1['R2'], label='first')\n",
    "plt.scatter(df_filtered_2['MIN_AC'], df_filtered_2['R2'], label='second')\n",
    "plt.legend()\n",
    "plt.xlabel('MIN_AC')\n",
    "plt.ylabel('R2')\n",
    "plt.title('Scatter plot of MIN_AC vs R2')\n",
    "plt.show()"
   ]
  },
  {
   "cell_type": "code",
   "execution_count": null,
   "metadata": {},
   "outputs": [],
   "source": []
  }
 ],
 "metadata": {
  "kernelspec": {
   "display_name": "Python [conda env:base] *",
   "language": "python",
   "name": "conda-base-py"
  },
  "language_info": {
   "codemirror_mode": {
    "name": "ipython",
    "version": 3
   },
   "file_extension": ".py",
   "mimetype": "text/x-python",
   "name": "python",
   "nbconvert_exporter": "python",
   "pygments_lexer": "ipython3",
   "version": "3.10.14"
  },
  "toc": {
   "base_numbering": 1,
   "nav_menu": {},
   "number_sections": true,
   "sideBar": true,
   "skip_h1_title": false,
   "title_cell": "Table of Contents",
   "title_sidebar": "Contents",
   "toc_cell": false,
   "toc_position": {},
   "toc_section_display": true,
   "toc_window_display": false
  }
 },
 "nbformat": 4,
 "nbformat_minor": 4
}
