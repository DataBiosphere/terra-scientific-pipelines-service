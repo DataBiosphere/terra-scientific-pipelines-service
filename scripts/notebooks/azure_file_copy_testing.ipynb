{
 "cells": [
  {
   "cell_type": "markdown",
   "metadata": {
    "jp-MarkdownHeadingCollapsed": true,
    "tags": []
   },
   "source": [
    "## Setup"
   ]
  },
  {
   "cell_type": "code",
   "execution_count": null,
   "metadata": {},
   "outputs": [],
   "source": [
    "import json\n",
    "import os\n",
    "import requests\n",
    "from pprint import pprint"
   ]
  },
  {
   "cell_type": "code",
   "execution_count": null,
   "metadata": {},
   "outputs": [],
   "source": [
    "# retrieve info for this (source) workspace\n",
    "WS_ID = os.getenv('WORKSPACE_ID')\n",
    "WS_SC_ID = os.getenv('WORKSPACE_STORAGE_CONTAINER_ID')\n",
    "WS_NAME = os.getenv('WORKSPACE_NAME')\n",
    "WS_SC_URL = os.getenv('WORKSPACE_STORAGE_CONTAINER_URL')\n",
    "\n",
    "print(f'workspace ID:                  {WS_ID}')\n",
    "print(f'storage container resource ID: {WS_SC_ID}')\n",
    "print(f'storage container url:         {WS_SC_URL}')"
   ]
  },
  {
   "cell_type": "code",
   "execution_count": null,
   "metadata": {},
   "outputs": [],
   "source": [
    "# dev API urls\n",
    "WSM_URL = 'https://workspace.dsde-dev.broadinstitute.org'\n",
    "TSPS_URL = 'https://tsps.dsde-dev.broadinstitute.org'\n",
    "ORCH_URL = 'https://firecloud-orchestration.dsde-dev.broadinstitute.org/'"
   ]
  },
  {
   "cell_type": "code",
   "execution_count": null,
   "metadata": {},
   "outputs": [],
   "source": [
    "def get_access_token(verbose=False):\n",
    "    \"\"\"Get access token for pet managed identity in Azure.\"\"\"\n",
    "    if verbose:\n",
    "        !az login --identity --allow-no-subscriptions\n",
    "    else:\n",
    "        !az login --identity --allow-no-subscriptions --output none\n",
    "    cli_token = !az account get-access-token | jq .accessToken\n",
    "\n",
    "    return cli_token[0].replace('\"', '')\n",
    "\n",
    "def get_headers(verb='GET', verbose=False):\n",
    "    headers = {\n",
    "        'Authorization': 'Bearer ' + get_access_token(verbose),\n",
    "        'accept': '*/*'\n",
    "    }\n",
    "    \n",
    "    if verb == 'POST':\n",
    "        headers['Content-Type'] = 'application/json'\n",
    "\n",
    "    return headers"
   ]
  },
  {
   "cell_type": "code",
   "execution_count": null,
   "metadata": {},
   "outputs": [],
   "source": [
    "# get headers once - refresh this as needed\n",
    "HEADERS_GET = get_headers('GET')\n",
    "HEADERS_POST = get_headers('POST')\n",
    "\n",
    "### workspace functions\n",
    "def get_workspace_id(ws_project, ws_name, orch_url=ORCH_URL, verbose=False):\n",
    "    uri = f'{orch_url}/api/workspaces/{ws_project}/{ws_name}'\n",
    "    \n",
    "    response = requests.get(uri, headers=HEADERS_GET)\n",
    "    \n",
    "    return response.json()['workspace']['workspaceId']\n",
    "\n",
    "def get_workspace_sc_resource_id(ws_id, wsm_url=WSM_URL, verbose=False):\n",
    "    uri = f'{wsm_url}/api/workspaces/v1/{ws_id}/resources?offset=0&limit=10&resource=AZURE_STORAGE_CONTAINER'\n",
    "    \n",
    "    response = requests.get(uri, headers=HEADERS_GET)\n",
    "    \n",
    "    sc_resource_id = None\n",
    "    for info_dict in response.json()['resources']:\n",
    "        if info_dict['metadata']['controlledResourceMetadata']['accessScope'] == 'SHARED_ACCESS':\n",
    "            sc_resource_id = info_dict['metadata']['resourceId']         \n",
    "    \n",
    "    return sc_resource_id\n",
    "\n",
    "\n",
    "### file functions\n",
    "def get_sas_token_for_blob(blob_name, \n",
    "                           permissions='r', \n",
    "                           ws_id=WS_ID, \n",
    "                           ws_sc_id=WS_SC_ID, \n",
    "                           wsm_url=WSM_URL,\n",
    "                           verbose=False):\n",
    "    uri = f'{wsm_url}/api/workspaces/v1/{ws_id}/resources/controlled/azure/storageContainer/{ws_sc_id}/getSasToken?sasPermissions={permissions}&sasBlobName={blob_name}'\n",
    "    \n",
    "    response = requests.post(uri, headers=HEADERS_GET, data='')\n",
    "    status_code = response.status_code\n",
    "    \n",
    "    return response.json()['url']\n",
    "\n",
    "\n",
    "### tsps functions\n",
    "def get_available_tsps_pipelines(tsps_url=TSPS_URL, \n",
    "                                 verbose=False):\n",
    "    uri = f'{tsps_url}/api/pipelines/v1alpha1'\n",
    "    \n",
    "    response = requests.get(uri, headers=HEADERS_GET)\n",
    "    \n",
    "    return response.json()\n",
    "\n",
    "def request_job(pipeline_id, \n",
    "                pipeline_version, \n",
    "                tsps_url=TSPS_URL, \n",
    "                verbose=False):\n",
    "    uri = f'{tsps_url}/api/jobs/v1alpha1/{pipeline_id}'\n",
    "    body = json.dumps({\n",
    "        'pipelineVersion': pipeline_version\n",
    "    })\n",
    "    \n",
    "    response = requests.post(uri, headers=HEADERS_POST, data=body)\n",
    "    \n",
    "    return response.json()\n",
    "\n",
    "def get_job_status(pipeline_id, \n",
    "                   job_id, \n",
    "                   tsps_url=TSPS_URL, \n",
    "                   verbose=False):\n",
    "    uri = f'{tsps_url}/api/jobs/v1alpha1/{pipeline_id}/{job_id}'\n",
    "    \n",
    "    response = requests.get(uri, headers=HEADERS_GET)\n",
    "    status_code = response.status_code\n",
    "    \n",
    "    return response.json()"
   ]
  },
  {
   "cell_type": "markdown",
   "metadata": {
    "tags": []
   },
   "source": [
    "## File copy stuff"
   ]
  },
  {
   "cell_type": "code",
   "execution_count": null,
   "metadata": {},
   "outputs": [],
   "source": [
    "# set up all the parameters\n",
    "source_file_to_copy = 'test.txt'\n",
    "\n",
    "dest_ws_project = 'rtitle-playground'\n",
    "dest_ws_name = 'morgan_test_destination_workspace'\n",
    "\n",
    "dest_blob_name = 'copied_test.txt'"
   ]
  },
  {
   "cell_type": "code",
   "execution_count": null,
   "metadata": {},
   "outputs": [],
   "source": [
    "# get sas token for source file\n",
    "source_file_sas = get_sas_token_for_blob(source_file_to_copy)\n",
    "print(source_file_sas)"
   ]
  },
  {
   "cell_type": "code",
   "execution_count": null,
   "metadata": {},
   "outputs": [],
   "source": [
    "# get the destination workspace information\n",
    "dest_ws_id = get_workspace_id(dest_ws_project, dest_ws_name)\n",
    "dest_sc_id = get_workspace_sc_resource_id(dest_ws_id)\n",
    "\n",
    "print(f'destination workspace ID:                  {dest_ws_id}')\n",
    "print(f'destination storage container resource ID: {dest_sc_id}')"
   ]
  },
  {
   "cell_type": "code",
   "execution_count": null,
   "metadata": {},
   "outputs": [],
   "source": [
    "# create a target destination SAS token\n",
    "# NOTE: according to documentation (https://learn.microsoft.com/en-us/azure/storage/common/storage-use-azcopy-blobs-copy#guidelines)\n",
    "# if the copy is between tenants (which we do want to support), we can't use Azure Active Directory (Azure AD) authentication\n",
    "# and must instead use SAS tokens.\n",
    "dest_file_sas = get_sas_token_for_blob(dest_blob_name, \n",
    "                           permissions='w', \n",
    "                           ws_id=dest_ws_id, \n",
    "                           ws_sc_id=dest_sc_id) \n",
    "print(dest_file_sas)"
   ]
  },
  {
   "cell_type": "code",
   "execution_count": null,
   "metadata": {},
   "outputs": [],
   "source": [
    "# azcopy needs the sas urls to be in quotes\n",
    "source_file_sas_with_quotes = f\"'{source_file_sas}'\"\n",
    "dest_file_sas_with_quotes = f\"'{dest_file_sas}'\"\n",
    "\n",
    "# do the copy\n",
    "!azcopy copy $source_file_sas_with_quotes $dest_file_sas_with_quotes"
   ]
  },
  {
   "cell_type": "markdown",
   "metadata": {
    "jp-MarkdownHeadingCollapsed": true,
    "tags": []
   },
   "source": [
    "## Imputation service stuff"
   ]
  },
  {
   "cell_type": "code",
   "execution_count": null,
   "metadata": {},
   "outputs": [],
   "source": [
    "response = get_available_tsps_pipelines()\n",
    "pprint(response)"
   ]
  },
  {
   "cell_type": "code",
   "execution_count": null,
   "metadata": {},
   "outputs": [],
   "source": [
    "response = request_job(\"imputation\", \"1\")\n",
    "job_id = response['jobId']\n",
    "print(job_id)"
   ]
  },
  {
   "cell_type": "code",
   "execution_count": null,
   "metadata": {},
   "outputs": [],
   "source": [
    "response = get_job_status(\"imputation\", job_id)\n",
    "pprint(response)"
   ]
  }
 ],
 "metadata": {
  "kernelspec": {
   "display_name": "Python 3 (ipykernel)",
   "language": "python",
   "name": "python3"
  },
  "language_info": {
   "codemirror_mode": {
    "name": "ipython",
    "version": 3
   },
   "file_extension": ".py",
   "mimetype": "text/x-python",
   "name": "python",
   "nbconvert_exporter": "python",
   "pygments_lexer": "ipython3",
   "version": "3.8.15"
  }
 },
 "nbformat": 4,
 "nbformat_minor": 4
}
